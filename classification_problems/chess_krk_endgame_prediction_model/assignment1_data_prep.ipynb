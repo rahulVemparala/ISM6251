{
  "cells": [
    {
      "cell_type": "markdown",
      "metadata": {
        "id": "_6C25V-OHeyZ"
      },
      "source": [
        "# Assigment 01:Data Science programing : Data Preperation"
      ]
    },
    {
      "cell_type": "markdown",
      "metadata": {
        "id": "uoki3ozMH6pq"
      },
      "source": [
        "## Source of Data: \n",
        "1. For this assignment, I have chosen the chess ( king, rook Vs king ) dataset [Source Link](https://archive.ics.uci.edu/ml/datasets/Chess+%28King-Rook+vs.+King%29) from the UCI ML repository. "
      ]
    },
    {
      "cell_type": "markdown",
      "metadata": {
        "id": "D77KDaVZH_2f"
      },
      "source": [
        "## Business Scenario \n",
        "\n",
        "I think that this data presents an interesting case for analysis, as we are trying to build a model that will predict if you win a game based on the position of your pieces(chess pieces) and the move you are making. \n",
        "As humans, we may have not thought of all possible moves that can be made based on the pieces you have on the board. This model computes all possible moves and strategies needed to win steers in the best possible checkmate strategy in fewer moves. Additionally, it gives us an understanding of the unique movement patterns that we may never think of. Or Assist any beginner player in making the right moves toward a win.\n"
      ]
    },
    {
      "cell_type": "markdown",
      "metadata": {
        "id": "WCz5-QkdIlB5"
      },
      "source": [
        "## Data Profile: \n",
        "Below is the attribute information: \n",
        "Predictors: \n",
        "   1. White King file (column)\n",
        "   2. White King rank(row)\n",
        "   3. White Rook file\n",
        "   4. White Rook rank\n",
        "   5. Black King file\n",
        "   6. Black King rank\n",
        "\n",
        "Target: \n",
        "   7. optimal depth-of-win for White in 0 to 16 moves, otherwise drawn\n",
        "               {draw, zero, one, two, ..., sixteen}.\n"
      ]
    },
    {
      "attachments": {},
      "cell_type": "markdown",
      "metadata": {
        "id": "goLNrdUPIuBC"
      },
      "source": [
        "# Data Preperation:"
      ]
    },
    {
      "cell_type": "code",
      "execution_count": 5,
      "metadata": {
        "id": "daZsxEvvJfIW"
      },
      "outputs": [],
      "source": [
        "# lib imports \n",
        "\n",
        "import pandas as pd \n",
        "from imblearn.under_sampling import RandomUnderSampler\n",
        "from sklearn.model_selection import train_test_split\n"
      ]
    },
    {
      "cell_type": "markdown",
      "metadata": {
        "id": "RqeHmaJUI2Kh"
      },
      "source": [
        "## Load source data"
      ]
    },
    {
      "cell_type": "code",
      "execution_count": 17,
      "metadata": {
        "colab": {
          "base_uri": "https://localhost:8080/",
          "height": 206
        },
        "id": "Gh9hD3ZDI6Zy",
        "outputId": "e5fb08fa-51cd-4abb-94c1-0d5bdb5713c9"
      },
      "outputs": [
        {
          "data": {
            "text/html": [
              "<div>\n",
              "<style scoped>\n",
              "    .dataframe tbody tr th:only-of-type {\n",
              "        vertical-align: middle;\n",
              "    }\n",
              "\n",
              "    .dataframe tbody tr th {\n",
              "        vertical-align: top;\n",
              "    }\n",
              "\n",
              "    .dataframe thead th {\n",
              "        text-align: right;\n",
              "    }\n",
              "</style>\n",
              "<table border=\"1\" class=\"dataframe\">\n",
              "  <thead>\n",
              "    <tr style=\"text-align: right;\">\n",
              "      <th></th>\n",
              "      <th>white_king_file</th>\n",
              "      <th>white_king_rank</th>\n",
              "      <th>white_rook_file</th>\n",
              "      <th>white_rook_rank</th>\n",
              "      <th>black_king_file</th>\n",
              "      <th>black_king_rank</th>\n",
              "      <th>moves</th>\n",
              "    </tr>\n",
              "  </thead>\n",
              "  <tbody>\n",
              "    <tr>\n",
              "      <th>0</th>\n",
              "      <td>a</td>\n",
              "      <td>1</td>\n",
              "      <td>b</td>\n",
              "      <td>3</td>\n",
              "      <td>c</td>\n",
              "      <td>2</td>\n",
              "      <td>draw</td>\n",
              "    </tr>\n",
              "    <tr>\n",
              "      <th>1</th>\n",
              "      <td>a</td>\n",
              "      <td>1</td>\n",
              "      <td>c</td>\n",
              "      <td>1</td>\n",
              "      <td>c</td>\n",
              "      <td>2</td>\n",
              "      <td>draw</td>\n",
              "    </tr>\n",
              "    <tr>\n",
              "      <th>2</th>\n",
              "      <td>a</td>\n",
              "      <td>1</td>\n",
              "      <td>c</td>\n",
              "      <td>1</td>\n",
              "      <td>d</td>\n",
              "      <td>1</td>\n",
              "      <td>draw</td>\n",
              "    </tr>\n",
              "    <tr>\n",
              "      <th>3</th>\n",
              "      <td>a</td>\n",
              "      <td>1</td>\n",
              "      <td>c</td>\n",
              "      <td>1</td>\n",
              "      <td>d</td>\n",
              "      <td>2</td>\n",
              "      <td>draw</td>\n",
              "    </tr>\n",
              "    <tr>\n",
              "      <th>4</th>\n",
              "      <td>a</td>\n",
              "      <td>1</td>\n",
              "      <td>c</td>\n",
              "      <td>2</td>\n",
              "      <td>c</td>\n",
              "      <td>1</td>\n",
              "      <td>draw</td>\n",
              "    </tr>\n",
              "  </tbody>\n",
              "</table>\n",
              "</div>"
            ],
            "text/plain": [
              "  white_king_file  white_king_rank white_rook_file  white_rook_rank  \\\n",
              "0               a                1               b                3   \n",
              "1               a                1               c                1   \n",
              "2               a                1               c                1   \n",
              "3               a                1               c                1   \n",
              "4               a                1               c                2   \n",
              "\n",
              "  black_king_file  black_king_rank moves  \n",
              "0               c                2  draw  \n",
              "1               c                2  draw  \n",
              "2               d                1  draw  \n",
              "3               d                2  draw  \n",
              "4               c                1  draw  "
            ]
          },
          "execution_count": 17,
          "metadata": {},
          "output_type": "execute_result"
        }
      ],
      "source": [
        "df = pd.read_csv('krkopt.csv')\n",
        "df.head()"
      ]
    },
    {
      "cell_type": "code",
      "execution_count": 12,
      "metadata": {
        "colab": {
          "base_uri": "https://localhost:8080/"
        },
        "id": "E_LWb8C3Jldl",
        "outputId": "a238d8d0-9a09-4772-ff4d-41ff44147348"
      },
      "outputs": [
        {
          "data": {
            "text/plain": [
              "(28056, 7)"
            ]
          },
          "execution_count": 12,
          "metadata": {},
          "output_type": "execute_result"
        }
      ],
      "source": [
        "# dimensions [rows * columns]\n",
        "df.shape"
      ]
    },
    {
      "cell_type": "code",
      "execution_count": 13,
      "metadata": {
        "colab": {
          "base_uri": "https://localhost:8080/"
        },
        "id": "IT39AAs5J9Q0",
        "outputId": "f2adb80f-9076-469a-eaf1-5f0a49fe010c"
      },
      "outputs": [
        {
          "name": "stdout",
          "output_type": "stream",
          "text": [
            "<class 'pandas.core.frame.DataFrame'>\n",
            "RangeIndex: 28056 entries, 0 to 28055\n",
            "Data columns (total 7 columns):\n",
            " #   Column           Non-Null Count  Dtype \n",
            "---  ------           --------------  ----- \n",
            " 0   white_king_file  28056 non-null  object\n",
            " 1   white_king_rank  28056 non-null  int64 \n",
            " 2   white_rook_file  28056 non-null  object\n",
            " 3   white_rook_rank  28056 non-null  int64 \n",
            " 4   black_king_file  28056 non-null  object\n",
            " 5   black_king_rank  28056 non-null  int64 \n",
            " 6   moves            28056 non-null  object\n",
            "dtypes: int64(3), object(4)\n",
            "memory usage: 1.5+ MB\n"
          ]
        }
      ],
      "source": [
        "# info on columns and data points\n",
        "\n",
        "df.info()"
      ]
    },
    {
      "cell_type": "markdown",
      "metadata": {
        "id": "47BXVxMFLf2i"
      },
      "source": [
        "### Observations on source data:  \n",
        "1. file: the file in chess is the column on the board, from a to h\n",
        "2.  rank: or row on the chess board, range from 1 to 8.discrete and finite numbers so categorical in nature. \n",
        "3 . moves: finally our target column moves is number of moves to checkmate the black king. \n",
        " 3. a) this one's tricky , cause we have a zero move, and a draw move.\n",
        " 3. b) zero move is when the default position on the board allows the king  to checkmate the king, ideally this is a less likely scenario.\n",
        " 3. c) we have draw, which occurs on many conditions but for our data, the condition that is feasible is a stalemate, after sisxteen consecutive moves skill there is no checkmate, then its a draw.\n",
        "\n"
      ]
    },
    {
      "cell_type": "markdown",
      "metadata": {
        "id": "BqqTki4WPty2"
      },
      "source": [
        "### Assumptions: \n",
        "1. based on the above scenario, all of our vairables are categorical.\n",
        "2. Based on the above observations on the target column , we have to assume that a 'zero' move is an ideal outcome and 'draw' is a the worst outcome. \n",
        "\n",
        "We will conduct our analysis based on this assumption"
      ]
    },
    {
      "attachments": {},
      "cell_type": "markdown",
      "metadata": {},
      "source": [
        "##  Data Imbalance"
      ]
    },
    {
      "attachments": {},
      "cell_type": "markdown",
      "metadata": {},
      "source": [
        "as per source of Dataset, there is clearly an imbalance classes for our target column \n",
        "Class Distribution:\n",
        "\n",
        "    draw       2796\n",
        "    zero         27\n",
        "    one          78\n",
        "    two         246\n",
        "    three        81\n",
        "    four        198\n",
        "    five        471\n",
        "    six         592\n",
        "    seven       683\n",
        "    eight      1433\n",
        "    nine       1712\n",
        "    ten        1985\n",
        "    eleven     2854\n",
        "    twelve     3597\n",
        "    thirteen   4194\n",
        "    fourteen   4553\n",
        "    fifteen    2166\n",
        "    sixteen     390\n",
        "\n",
        "    Total     28056\n",
        "\n",
        "Our dataset is quite a large dataset with around 28k records, so we can use undersampling to normalize the class difference "
      ]
    },
    {
      "cell_type": "code",
      "execution_count": 18,
      "metadata": {},
      "outputs": [
        {
          "name": "stdout",
          "output_type": "stream",
          "text": [
            "X dimensions : (28056, 6), y dimensions: (28056, 1)\n"
          ]
        }
      ],
      "source": [
        "target = 'moves'\n",
        "predictors = list(df.columns)\n",
        "predictors.remove(target)\n",
        "\n",
        "X = df[predictors]\n",
        "y = df[[target]]\n",
        "print(f\"X dimensions : {X.shape}, y dimensions: {y.shape}\")"
      ]
    },
    {
      "cell_type": "code",
      "execution_count": 19,
      "metadata": {},
      "outputs": [
        {
          "data": {
            "text/plain": [
              "moves   \n",
              "fourteen    4553\n",
              "thirteen    4194\n",
              "twelve      3597\n",
              "eleven      2854\n",
              "draw        2796\n",
              "fifteen     2166\n",
              "ten         1985\n",
              "nine        1712\n",
              "eight       1433\n",
              "seven        683\n",
              "six          592\n",
              "five         471\n",
              "sixteen      390\n",
              "two          246\n",
              "four         198\n",
              "three         81\n",
              "one           78\n",
              "zero          27\n",
              "dtype: int64"
            ]
          },
          "execution_count": 19,
          "metadata": {},
          "output_type": "execute_result"
        }
      ],
      "source": [
        "y.value_counts()"
      ]
    },
    {
      "cell_type": "code",
      "execution_count": 21,
      "metadata": {},
      "outputs": [],
      "source": [
        "\n",
        "\n",
        "under_sampler = RandomUnderSampler(sampling_strategy='majority')\n",
        "X_res, y_res = under_sampler.fit_resample(X, y)\n"
      ]
    },
    {
      "cell_type": "code",
      "execution_count": 22,
      "metadata": {},
      "outputs": [
        {
          "data": {
            "text/plain": [
              "moves   \n",
              "thirteen    4194\n",
              "twelve      3597\n",
              "eleven      2854\n",
              "draw        2796\n",
              "fifteen     2166\n",
              "ten         1985\n",
              "nine        1712\n",
              "eight       1433\n",
              "seven        683\n",
              "six          592\n",
              "five         471\n",
              "sixteen      390\n",
              "two          246\n",
              "four         198\n",
              "three         81\n",
              "one           78\n",
              "fourteen      27\n",
              "zero          27\n",
              "dtype: int64"
            ]
          },
          "execution_count": 22,
          "metadata": {},
          "output_type": "execute_result"
        }
      ],
      "source": [
        "y_res.value_counts()"
      ]
    },
    {
      "attachments": {},
      "cell_type": "markdown",
      "metadata": {},
      "source": [
        "## Train, test split source data before pre-processing"
      ]
    },
    {
      "cell_type": "code",
      "execution_count": 23,
      "metadata": {},
      "outputs": [
        {
          "data": {
            "text/html": [
              "<div>\n",
              "<style scoped>\n",
              "    .dataframe tbody tr th:only-of-type {\n",
              "        vertical-align: middle;\n",
              "    }\n",
              "\n",
              "    .dataframe tbody tr th {\n",
              "        vertical-align: top;\n",
              "    }\n",
              "\n",
              "    .dataframe thead th {\n",
              "        text-align: right;\n",
              "    }\n",
              "</style>\n",
              "<table border=\"1\" class=\"dataframe\">\n",
              "  <thead>\n",
              "    <tr style=\"text-align: right;\">\n",
              "      <th></th>\n",
              "      <th>moves</th>\n",
              "    </tr>\n",
              "  </thead>\n",
              "  <tbody>\n",
              "    <tr>\n",
              "      <th>2734</th>\n",
              "      <td>draw</td>\n",
              "    </tr>\n",
              "    <tr>\n",
              "      <th>8393</th>\n",
              "      <td>fifteen</td>\n",
              "    </tr>\n",
              "    <tr>\n",
              "      <th>8618</th>\n",
              "      <td>fifteen</td>\n",
              "    </tr>\n",
              "    <tr>\n",
              "      <th>2111</th>\n",
              "      <td>draw</td>\n",
              "    </tr>\n",
              "    <tr>\n",
              "      <th>6538</th>\n",
              "      <td>eleven</td>\n",
              "    </tr>\n",
              "  </tbody>\n",
              "</table>\n",
              "</div>"
            ],
            "text/plain": [
              "        moves\n",
              "2734     draw\n",
              "8393  fifteen\n",
              "8618  fifteen\n",
              "2111     draw\n",
              "6538   eleven"
            ]
          },
          "execution_count": 23,
          "metadata": {},
          "output_type": "execute_result"
        }
      ],
      "source": [
        "# train-test split \n",
        "\n",
        "\n",
        "X_train, X_test, y_train, y_test = train_test_split(X_res, y_res, \n",
        "                                                    test_size=0.3, random_state=42)\n",
        "y_test.head()\n"
      ]
    },
    {
      "attachments": {},
      "cell_type": "markdown",
      "metadata": {
        "id": "y7Y5XZimRWwF"
      },
      "source": [
        "## Type conversion to catgorical"
      ]
    },
    {
      "cell_type": "code",
      "execution_count": 24,
      "metadata": {
        "colab": {
          "base_uri": "https://localhost:8080/"
        },
        "id": "1Qn9nv4FRbb4",
        "outputId": "9737eaec-1124-42a6-88e0-d990e4fddf25"
      },
      "outputs": [
        {
          "name": "stdout",
          "output_type": "stream",
          "text": [
            "Column: white_king_file(category) -->  category \n",
            "Column: white_king_rank(category) -->  category \n",
            "Column: white_rook_file(category) -->  category \n",
            "Column: white_rook_rank(category) -->  category \n",
            "Column: black_king_file(category) -->  category \n",
            "Column: black_king_rank(category) -->  category \n",
            "\n",
            "Column: white_king_file(category) -->  category \n",
            "Column: white_king_rank(category) -->  category \n",
            "Column: white_rook_file(category) -->  category \n",
            "Column: white_rook_rank(category) -->  category \n",
            "Column: black_king_file(category) -->  category \n",
            "Column: black_king_rank(category) -->  category \n",
            "\n",
            "Column: moves(category) -->  category \n",
            "\n",
            "Column: moves(category) -->  category \n",
            "\n"
          ]
        }
      ],
      "source": [
        "# convert categorical columns into pandas categories \n",
        "for column in  list(X_train.columns):\n",
        "  X_train[column] =X_train[column].astype('category')\n",
        "  print(f\"Column: {column}({X_train[column].dtype}) -->  category \") \n",
        "print()\n",
        "\n",
        "for column in  list(X_test.columns):\n",
        "  X_test[column] =X_test[column].astype('category')\n",
        "  print(f\"Column: {column}({X_test[column].dtype}) -->  category \") \n",
        "print()\n",
        "  \n",
        "y_train[target] =y_train[target].astype('category')\n",
        "print(f\"Column: {target}({y_train[target].dtype}) -->  category \") \n",
        "print()\n",
        "\n",
        "y_test[target] =y_test[target].astype('category')\n",
        "print(f\"Column: {target}({y_test[target].dtype}) -->  category \") \n",
        "print()"
      ]
    },
    {
      "cell_type": "markdown",
      "metadata": {},
      "source": [
        "## Encoding categorical variables\n"
      ]
    },
    {
      "cell_type": "code",
      "execution_count": 25,
      "metadata": {
        "colab": {
          "base_uri": "https://localhost:8080/",
          "height": 299
        },
        "id": "-PY3ezxcT2Ba",
        "outputId": "ae9d3f7c-bed5-457b-e5ed-27b0f55cd390"
      },
      "outputs": [],
      "source": [
        "# the categorical columns have a non linear relationship among different classes in them. \n",
        "# for example the difference betwewn the king file position a to b is not the same as b to c , because one of the difference is of greter importance because it might get you closer to checkmate. \n",
        "\n",
        "# Hence one hot encoding seems to be suitable for our categorical columns \n",
        "\n",
        "#label encoding for the target ,to convert them into numerical columns, since they have natural order\n",
        "\n",
        "# get dummies to convert \n",
        "\n",
        "target = 'moves'\n",
        "predictors = list(df.columns)[:-1]\n",
        "\n",
        "df_encoded_prXedictors  = pd.get_dummies(df[predictors], prefix_sep='_ohe_', drop_first=True ) \n",
        "\n",
        "X_train_encoded  = pd.get_dummies(X_train, prefix_sep='_ohe_', drop_first=True ) \n",
        "X_test_encoded  = pd.get_dummies(X_test, prefix_sep='_ohe_', drop_first=True ) \n",
        "\n",
        "label_map = {'draw': 18, 'zero': 0, 'one': 1, 'two': 2, 'three': 3, 'four': 4,\n",
        "             'five': 5, 'six': 6, 'seven': 7, 'eight': 8, 'nine': 9, 'ten': 10,\n",
        "             'eleven': 11, 'twelve': 12, 'thirteen': 13, 'fourteen': 14, \n",
        "             'fifteen': 15, 'sixteen': 16}\n",
        "\n",
        "y_train['moves'] = y_train['moves'].map(label_map)\n",
        "y_test['moves'] = y_test['moves'].map(label_map)\n",
        "\n",
        "# y_train = y_train.drop(columns=['moves'])\n",
        "# y_test = y_test.drop(columns=['moves'])\n"
      ]
    },
    {
      "cell_type": "markdown",
      "metadata": {
        "id": "7aonPRIVRoO3"
      },
      "source": [
        "## Save Pre-processed data"
      ]
    },
    {
      "cell_type": "code",
      "execution_count": 26,
      "metadata": {
        "id": "0FKZtrEL-Aug"
      },
      "outputs": [],
      "source": [
        "# save to parquet format to preserve dtypes \n",
        "\n",
        "X_train_encoded.to_parquet('X_train_krk.parquet' , engine='fastparquet', index=False)\n",
        "X_test_encoded.to_parquet('X_test_krk.parquet' , engine='fastparquet', index=False)\n",
        "y_train.to_parquet('y_train_krk.parquet' , engine='fastparquet', index=False)\n",
        "y_test.to_parquet('y_test_krk.parquet' , engine='fastparquet', index=False)"
      ]
    },
    {
      "cell_type": "code",
      "execution_count": null,
      "metadata": {},
      "outputs": [],
      "source": []
    }
  ],
  "metadata": {
    "colab": {
      "provenance": []
    },
    "kernelspec": {
      "display_name": "Python 3",
      "name": "python3"
    },
    "language_info": {
      "codemirror_mode": {
        "name": "ipython",
        "version": 3
      },
      "file_extension": ".py",
      "mimetype": "text/x-python",
      "name": "python",
      "nbconvert_exporter": "python",
      "pygments_lexer": "ipython3",
      "version": "3.9.12"
    }
  },
  "nbformat": 4,
  "nbformat_minor": 0
}
